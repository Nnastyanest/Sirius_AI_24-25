{
 "nbformat": 4,
 "nbformat_minor": 0,
 "metadata": {
  "colab": {
   "provenance": []
  },
  "kernelspec": {
   "name": "python3",
   "display_name": "Python 3"
  },
  "language_info": {
   "name": "python"
  }
 },
 "cells": [
  {
   "cell_type": "markdown",
   "source": [
    "    # 0. Установка и Импорт"
   ],
   "metadata": {
    "id": "oHHiZLAqXz7c"
   }
  },
  {
   "cell_type": "code",
   "source": [
    "!pip install google-auth google-auth-oauthlib google-auth-httplib2 google-api-python-client"
   ],
   "metadata": {
    "id": "iACF2OKTfWH8"
   },
   "execution_count": null,
   "outputs": []
  },
  {
   "cell_type": "code",
   "source": [
    "!pip install yt-dlp"
   ],
   "metadata": {
    "id": "hlEUR_tLrGxn"
   },
   "execution_count": null,
   "outputs": []
  },
  {
   "cell_type": "code",
   "source": [
    "from googleapiclient.discovery import build\n",
    "import requests\n",
    "import pickle\n",
    "import yt_dlp\n",
    "import json\n",
    "import re"
   ],
   "metadata": {
    "id": "zUwIsec4X8Q-"
   },
   "execution_count": 8,
   "outputs": []
  },
  {
   "cell_type": "code",
   "source": [
    "API_KEY = 'your_api_key'\n",
    "CHANNEL_ID = 'UCdxesVp6Fs7wLpnp1XKkvZg'"
   ],
   "metadata": {
    "id": "ng6Fv10YY26r"
   },
   "execution_count": 5,
   "outputs": []
  },
  {
   "cell_type": "code",
   "source": [
    "youtube = build('youtube', 'v3', developerKey=API_KEY)"
   ],
   "metadata": {
    "id": "1HY9GmBfZTFn"
   },
   "execution_count": 6,
   "outputs": []
  },
  {
   "cell_type": "markdown",
   "source": [
    "# 1. Скачиваем список и описание всех видео"
   ],
   "metadata": {
    "id": "JLiCkpAaz7KM"
   }
  },
  {
   "cell_type": "code",
   "execution_count": null,
   "metadata": {
    "id": "ALjuPcZ_fR98"
   },
   "outputs": [],
   "source": [
    "def get_channel_videos(channel_id):\n",
    "    \"\"\"\n",
    "    Функция, которая принимает на вход id youtube канала, а возвращает\n",
    "    массив id всех его видео\n",
    "    \"\"\"\n",
    "    video_ids = []\n",
    "    response = youtube.channels().list(\n",
    "        part=\"contentDetails\",\n",
    "        id=channel_id\n",
    "    ).execute()\n",
    "\n",
    "    uploads_playlist_id = response['items'][0]['contentDetails']['relatedPlaylists']['uploads']\n",
    "    next_page_token = None\n",
    "    while True:\n",
    "        playlist_response = youtube.playlistItems().list(\n",
    "            part=\"contentDetails\",\n",
    "            playlistId=uploads_playlist_id,\n",
    "            maxResults=50,\n",
    "            pageToken=next_page_token\n",
    "        ).execute()\n",
    "\n",
    "        for item in playlist_response['items']:\n",
    "            video_ids.append(item['contentDetails']['videoId'])\n",
    "\n",
    "        next_page_token = playlist_response.get('nextPageToken')\n",
    "        if not next_page_token:\n",
    "            break\n",
    "\n",
    "    return video_ids\n",
    "\n",
    "def get_video_details(video_ids):\n",
    "    \"\"\"\n",
    "    Функция, которая принимает на вход массив id видео, а возвращает\n",
    "    массив с мета информацией о этих видео, включая:\n",
    "      1. Id (video_id)\n",
    "      2. Название (title)\n",
    "      3. Описание (description)\n",
    "      4. Дата публикации (published_at)\n",
    "      5. Название канала (channel_title)\n",
    "      6. Теги (tags)\n",
    "      7. Id категории (category_id)\n",
    "      8. Количество просмотров (view_count)\n",
    "      9. Количество лайков (like_count)\n",
    "      10. Количество комментариев (comment_count)\n",
    "    \"\"\"\n",
    "    videos = []\n",
    "    for i in range(0, len(video_ids), 50):  # API позволяет запрашивать до 50 видео за раз\n",
    "        response = youtube.videos().list(\n",
    "            part=\"snippet,contentDetails,statistics\",\n",
    "            id=\",\".join(video_ids[i:i+50])\n",
    "        ).execute()\n",
    "\n",
    "        for item in response['items']:\n",
    "            video_info = {\n",
    "                'video_id': item['id'],\n",
    "                'title': item['snippet']['title'],\n",
    "                'description': item['snippet']['description'],\n",
    "                'published_at': item['snippet']['publishedAt'],\n",
    "                'channel_title': item['snippet']['channelTitle'],\n",
    "                'tags': item['snippet'].get('tags', []),\n",
    "                'category_id': item['snippet']['categoryId'],\n",
    "                'view_count': item['statistics'].get('viewCount', 0),\n",
    "                'like_count': item['statistics'].get('likeCount', 0),\n",
    "                'comment_count': item['statistics'].get('commentCount', 0)\n",
    "            }\n",
    "            videos.append(video_info)\n",
    "    return videos\n",
    "\n",
    "video_ids = get_channel_videos(CHANNEL_ID)\n",
    "video_details = get_video_details(video_ids)\n",
    "\n",
    "\n",
    "# Сохраняем исходные выгруженные сырые данные\n",
    "with open('video_details_raw.json', 'w', encoding='utf-8') as fp:\n",
    "    json.dump(video_details, fp, ensure_ascii=False, indent=4)\n",
    "\n",
    "\n",
    "with open('video_ids.pickle', 'wb') as fp:\n",
    "    pickle.dump(video_ids, fp)"
   ]
  },
  {
   "cell_type": "code",
   "source": [
    "print(f\"video_ids (LEN = {len(video_ids)}):\\n[{video_ids[0]}, {video_ids[1]}, {video_ids[2]}, ...]\\n\")\n",
    "print(\"-\"*20)\n",
    "print(F\"video_details (LEN = {len(video_details)}):\\n\")\n",
    "for key in video_details[0]:\n",
    "    print(f\"{key}: {video_details[0][key]}\")"
   ],
   "metadata": {
    "colab": {
     "base_uri": "https://localhost:8080/"
    },
    "id": "_O3v-FnOeczW",
    "outputId": "c54ac357-0f08-4aef-fa11-4d91b7b9aa99"
   },
   "execution_count": null,
   "outputs": [
    {
     "output_type": "stream",
     "name": "stdout",
     "text": [
      "video_ids (LEN = 4094):\n",
      "[sDwkFzbDZWQ, NjlDypgNp3s, JXnnlhm4Z0c, ...]\n",
      "\n",
      "--------------------\n",
      "video_details (LEN = 4094):\n",
      "\n",
      "video_id: sDwkFzbDZWQ\n",
      "title: Формальные языки и трансляции 5. Построение минимального автомата. Праволинейные грамматики\n",
      "description: Таймкоды:\n",
      "0:00 Начало\n",
      "3:29 Доказательство утв-я про классы эквивалентности\n",
      "13:49 Построение МПДКА по регулярке\n",
      "14:29 Конечность классов эквивалентности\n",
      "17:41 Теорема Майхилла-Нероуда\n",
      "19:03 Пример доказательства неавтоматности языка\n",
      "23:04 Порождающие грамматики\n",
      "26:11 Пример грамматики\n",
      "32:36 Выводимость в грамматике\n",
      "37:22 Иерархия Хомского\n",
      "47:34 Теорема об эквивалентности праволинейных грамматик и автоматных языков\n",
      "\n",
      "Лектор: Ахтямов Павел Ибрагимович\n",
      "Дата лекции: 01.10.2024\n",
      "\n",
      "Оператор: Савельев Е.\n",
      "Монтажер: Андреев Я.\n",
      "\n",
      "Плейлист: https://www.youtube.com/playlist?list=PL4_hYwCyhAvaB9lc47qlPq_XteD3l7HIs\n",
      "published_at: 2024-10-31T14:47:05Z\n",
      "channel_title: Лекторий ФПМИ\n",
      "tags: []\n",
      "category_id: 27\n",
      "view_count: 67\n",
      "like_count: 1\n",
      "comment_count: 0\n"
     ]
    }
   ]
  },
  {
   "cell_type": "markdown",
   "source": [
    "# 2. Предобрабатываем данные"
   ],
   "metadata": {
    "id": "GZ9Ax7SPcFgV"
   }
  },
  {
   "cell_type": "markdown",
   "source": [
    "В заголовке можно вычленить отдельно тему и название лекции"
   ],
   "metadata": {
    "id": "GgDKx-IngF8N"
   }
  },
  {
   "cell_type": "code",
   "source": [
    "def pars_title(title):\n",
    "    \"\"\"\n",
    "    Функция, которая вычленяет из заголовка тему и само название лекции\n",
    "    \"\"\"\n",
    "    title_split = title.split(\".\")\n",
    "    topic = title_split[0].strip(\"123456789 \")\n",
    "    lecture_title = '.'.join(title_split[1:]).strip(' ')\n",
    "    return topic, lecture_title"
   ],
   "metadata": {
    "id": "rLJuPzG0g4m6"
   },
   "execution_count": null,
   "outputs": []
  },
  {
   "cell_type": "code",
   "source": [
    "VIDEO_COUNT = 3\n",
    "for ind, video in enumerate(video_details[:VIDEO_COUNT]):\n",
    "    print(f\"------\\nВидео {ind + 1}.\")\n",
    "    print(video['title'])\n",
    "    topic, lecture_title = pars_title(video['title'])\n",
    "    print(f\"\\nТема: {topic}\\nНазвание видео: {lecture_title}\\n------\\n\")"
   ],
   "metadata": {
    "colab": {
     "base_uri": "https://localhost:8080/"
    },
    "id": "5HwMNfYBl8nf",
    "outputId": "ff149de1-0acc-41e9-bd63-dfbc91609b50"
   },
   "execution_count": null,
   "outputs": [
    {
     "output_type": "stream",
     "name": "stdout",
     "text": [
      "------\n",
      "Видео 1.\n",
      "Формальные языки и трансляции 5. Построение минимального автомата. Праволинейные грамматики\n",
      "\n",
      "Тема: Формальные языки и трансляции\n",
      "Название видео: Построение минимального автомата. Праволинейные грамматики\n",
      "------\n",
      "\n",
      "------\n",
      "Видео 2.\n",
      "Формальные языки и трансляции 4. МПДКА. Праволинейные грамматики\n",
      "\n",
      "Тема: Формальные языки и трансляции\n",
      "Название видео: МПДКА. Праволинейные грамматики\n",
      "------\n",
      "\n",
      "------\n",
      "Видео 3.\n",
      "Введение в математический анализ 17. Дифференциал. Теоремы о среднем.\n",
      "\n",
      "Тема: Введение в математический анализ\n",
      "Название видео: Дифференциал. Теоремы о среднем.\n",
      "------\n",
      "\n"
     ]
    }
   ]
  },
  {
   "cell_type": "code",
   "source": [
    "for ind, video in enumerate(video_details):\n",
    "    topic, lecture_title = pars_title(video['title'])\n",
    "    video_details[ind]['Tема'] = topic\n",
    "    video_details[ind]['Название лекции'] = lecture_title"
   ],
   "metadata": {
    "id": "Bzm5iKMShlpX"
   },
   "execution_count": null,
   "outputs": []
  },
  {
   "cell_type": "markdown",
   "source": [
    "Описание видео можно разбить на несколько частей (каждая их кооторых может и не присутсвовать в данном описании)\n",
    "\n",
    "\n",
    "1. Таймкоды\n",
    "2. Лектор\n",
    "3. Оператор\n",
    "4. Монтажер\n",
    "5. Плейлист"
   ],
   "metadata": {
    "id": "9s1dO3Snjw0-"
   }
  },
  {
   "cell_type": "code",
   "source": [
    "timestamps_pattern = re.compile(r\"(\\d{1,2}:\\d{2})\\s+(.+)\")\n",
    "lector_pattern = re.compile(r\"Лектор:\\s+(.+)\")\n",
    "operator_pattern = re.compile(r\"Оператор:\\s+(.+)\")\n",
    "editor_pattern = re.compile(r\"Монтаж[ёе]р:\\s+(.+)\")\n",
    "playlist_pattern = re.compile(r\"Плейлист:\\s+(https?://[^\\s]+)\")\n",
    "date_pattern = re.compile(r\"Дата лекции:\\s+(\\d{2}\\.\\d{2}\\.\\d{4})\")\n",
    "\n",
    "def pars_description(text):\n",
    "      \"\"\"\n",
    "      Функция, которая вычленяет из описания видео:\n",
    "        1. Таймкоды\n",
    "        2. Лектора\n",
    "        3. Оператора\n",
    "        4. Монтажера\n",
    "        5. Ссылку на плейлист\n",
    "        6. Дату лекции\n",
    "      \"\"\"\n",
    "      timestamps = timestamps_pattern.findall(text)\n",
    "      timestamps = [(timestamp[0], timestamp[1].strip(' -,')) for timestamp in timestamps]\n",
    "      lector = lector_pattern.search(text).group(1) if lector_pattern.search(text) else None\n",
    "      operator = operator_pattern.search(text).group(1) if operator_pattern.search(text) else None\n",
    "      editor = editor_pattern.search(text).group(1) if editor_pattern.search(text) else None\n",
    "      playlist = playlist_pattern.search(text).group(1) if playlist_pattern.search(text) else None\n",
    "      date = date_pattern.search(text).group(1) if date_pattern.search(text) else None\n",
    "\n",
    "      return timestamps, lector, operator, editor, playlist, date\n",
    "\n",
    "\n",
    "for ind, video in enumerate(video_details):\n",
    "    timestamps, lector, operator, editor, playlist, date = pars_description(video['description'])\n",
    "    video_details[ind][\"Таймкоды\"] = timestamps\n",
    "    video_details[ind][\"Лектор\"] = lector\n",
    "    video_details[ind][\"Оператор\"] = operator\n",
    "    video_details[ind][\"Монтажер\"] = editor\n",
    "    video_details[ind][\"Плейлист\"] = playlist\n",
    "    video_details[ind][\"Дата лекции\"] = date"
   ],
   "metadata": {
    "id": "hBadXnnXn5Be"
   },
   "execution_count": null,
   "outputs": []
  },
  {
   "cell_type": "code",
   "source": [
    "VIDEO_COUNT_2 = 2\n",
    "for ind, video in enumerate(video_details[:VIDEO_COUNT_2]):\n",
    "    print(f\"------\\nВидео {ind + 1}.\")\n",
    "    for key in video:\n",
    "        print(f\"{key}: {video[key]}\")\n",
    "    print()"
   ],
   "metadata": {
    "colab": {
     "base_uri": "https://localhost:8080/"
    },
    "id": "5Xu6ugHRkw0W",
    "outputId": "24f0d8ed-6c97-419a-e9af-2a7b44d1201b"
   },
   "execution_count": null,
   "outputs": [
    {
     "output_type": "stream",
     "name": "stdout",
     "text": [
      "------\n",
      "Видео 1.\n",
      "video_id: sDwkFzbDZWQ\n",
      "title: Формальные языки и трансляции 5. Построение минимального автомата. Праволинейные грамматики\n",
      "description: Таймкоды:\n",
      "0:00 Начало\n",
      "3:29 Доказательство утв-я про классы эквивалентности\n",
      "13:49 Построение МПДКА по регулярке\n",
      "14:29 Конечность классов эквивалентности\n",
      "17:41 Теорема Майхилла-Нероуда\n",
      "19:03 Пример доказательства неавтоматности языка\n",
      "23:04 Порождающие грамматики\n",
      "26:11 Пример грамматики\n",
      "32:36 Выводимость в грамматике\n",
      "37:22 Иерархия Хомского\n",
      "47:34 Теорема об эквивалентности праволинейных грамматик и автоматных языков\n",
      "\n",
      "Лектор: Ахтямов Павел Ибрагимович\n",
      "Дата лекции: 01.10.2024\n",
      "\n",
      "Оператор: Савельев Е.\n",
      "Монтажер: Андреев Я.\n",
      "\n",
      "Плейлист: https://www.youtube.com/playlist?list=PL4_hYwCyhAvaB9lc47qlPq_XteD3l7HIs\n",
      "published_at: 2024-10-31T14:47:05Z\n",
      "channel_title: Лекторий ФПМИ\n",
      "tags: []\n",
      "category_id: 27\n",
      "view_count: 67\n",
      "like_count: 1\n",
      "comment_count: 0\n",
      "Tема: Формальные языки и трансляции\n",
      "Название лекции: Построение минимального автомата. Праволинейные грамматики\n",
      "Таймкоды: [('0:00', 'Начало'), ('3:29', 'Доказательство утв-я про классы эквивалентности'), ('13:49', 'Построение МПДКА по регулярке'), ('14:29', 'Конечность классов эквивалентности'), ('17:41', 'Теорема Майхилла-Нероуда'), ('19:03', 'Пример доказательства неавтоматности языка'), ('23:04', 'Порождающие грамматики'), ('26:11', 'Пример грамматики'), ('32:36', 'Выводимость в грамматике'), ('37:22', 'Иерархия Хомского'), ('47:34', 'Теорема об эквивалентности праволинейных грамматик и автоматных языков')]\n",
      "Лектор: Ахтямов Павел Ибрагимович\n",
      "Оператор: Савельев Е.\n",
      "Монтажер: Андреев Я.\n",
      "Плейлист: https://www.youtube.com/playlist?list=PL4_hYwCyhAvaB9lc47qlPq_XteD3l7HIs\n",
      "Дата лекции: 01.10.2024\n",
      "\n",
      "------\n",
      "Видео 2.\n",
      "video_id: NjlDypgNp3s\n",
      "title: Формальные языки и трансляции 4. МПДКА. Праволинейные грамматики\n",
      "description: Таймкоды:\n",
      "0:00 Повторение\n",
      "4:21 Лемма об автомате с попарно неэквивалентными состояниями\n",
      "27:14 Определение минимального ПДКА\n",
      "29:10 Критерий минимальности ПДКА\n",
      "39:35 Определение изоморфизма ПДКА\n",
      "42:58 Теорема о единственности МПДКА с точностью до изоморфизма\n",
      "\n",
      "Лектор: Ахтямов Павел Ибрагимович\n",
      "Дата лекции: 24.09.2024\n",
      "\n",
      "Оператор: Савельев Е.\n",
      "Монтажер: Андреев Я.\n",
      "\n",
      "Плейлист: https://www.youtube.com/playlist?list=PL4_hYwCyhAvaB9lc47qlPq_XteD3l7HIs\n",
      "published_at: 2024-10-31T14:43:25Z\n",
      "channel_title: Лекторий ФПМИ\n",
      "tags: []\n",
      "category_id: 27\n",
      "view_count: 53\n",
      "like_count: 2\n",
      "comment_count: 0\n",
      "Tема: Формальные языки и трансляции\n",
      "Название лекции: МПДКА. Праволинейные грамматики\n",
      "Таймкоды: [('0:00', 'Повторение'), ('4:21', 'Лемма об автомате с попарно неэквивалентными состояниями'), ('27:14', 'Определение минимального ПДКА'), ('29:10', 'Критерий минимальности ПДКА'), ('39:35', 'Определение изоморфизма ПДКА'), ('42:58', 'Теорема о единственности МПДКА с точностью до изоморфизма')]\n",
      "Лектор: Ахтямов Павел Ибрагимович\n",
      "Оператор: Савельев Е.\n",
      "Монтажер: Андреев Я.\n",
      "Плейлист: https://www.youtube.com/playlist?list=PL4_hYwCyhAvaB9lc47qlPq_XteD3l7HIs\n",
      "Дата лекции: 24.09.2024\n",
      "\n"
     ]
    }
   ]
  },
  {
   "cell_type": "code",
   "source": [
    "# Сохраянем\n",
    "with open('video_details_preprocessing.json', 'w', encoding='utf-8') as fp:\n",
    "    json.dump(video_details, fp, ensure_ascii=False, indent=4)"
   ],
   "metadata": {
    "id": "e7e-EqKOmAkA"
   },
   "execution_count": null,
   "outputs": []
  },
  {
   "cell_type": "markdown",
   "source": [
    "# 3. Скачиваем видео и отделяем от них аудио"
   ],
   "metadata": {
    "id": "-bRLaEf90NzW"
   }
  },
  {
   "cell_type": "code",
   "source": [
    "import yt_dlp\n",
    "\n",
    "def download_youtube_audio(url: str, output_path: str = \".\"):\n",
    "    \"\"\"\n",
    "    Скачивает аудио с YouTube по переданному URL и сохраняет его в формате MP3 с помощью yt-dlp.\n",
    "\n",
    "    :param url: Ссылка на видео с YouTube.\n",
    "    :param output_path: Путь, по которому будет сохранено аудио.\n",
    "    :return: Путь к скачанному файлу.\n",
    "    \"\"\"\n",
    "    ydl_opts = {\n",
    "        'format': 'bestaudio/best',\n",
    "        'outtmpl': f'{output_path}/%(title)s.%(ext)s',\n",
    "        'postprocessors': [\n",
    "            {\n",
    "                'key': 'FFmpegExtractAudio',\n",
    "                'preferredcodec': 'mp3',\n",
    "                'preferredquality': '192',\n",
    "            }\n",
    "        ],\n",
    "    }\n",
    "\n",
    "    with yt_dlp.YoutubeDL(ydl_opts) as ydl:\n",
    "        info_dict = ydl.extract_info(url, download=True)\n",
    "        audio_title = info_dict.get('title', 'audio')\n",
    "        downloaded_file_path = f\"{output_path}/{audio_title}.mp3\"\n",
    "\n",
    "    return downloaded_file_path\n",
    "\n",
    "\n",
    "url = \"https://www.youtube.com/watch?v=sDwkFzbDZWQ\"\n",
    "path_to_audio = download_youtube_audio(url, output_path=\".\")\n",
    "print(f\"Аудио скачано по пути: {path_to_audio}\")"
   ],
   "metadata": {
    "colab": {
     "base_uri": "https://localhost:8080/"
    },
    "id": "w9ZCTN0HEjhL",
    "outputId": "56e76b7d-1c31-40e6-cb48-e3e71c3c218c"
   },
   "execution_count": 11,
   "outputs": [
    {
     "output_type": "stream",
     "name": "stdout",
     "text": [
      "[youtube] Extracting URL: https://www.youtube.com/watch?v=sDwkFzbDZWQ\n",
      "[youtube] sDwkFzbDZWQ: Downloading webpage\n",
      "[youtube] sDwkFzbDZWQ: Downloading ios player API JSON\n",
      "[youtube] sDwkFzbDZWQ: Downloading mweb player API JSON\n",
      "[youtube] sDwkFzbDZWQ: Downloading m3u8 information\n",
      "[info] sDwkFzbDZWQ: Downloading 1 format(s): 251\n",
      "[download] Destination: ./Формальные языки и трансляции 5. Построение минимального автомата. Праволинейные грамматики.webm\n",
      "[download] 100% of   57.74MiB in 00:00:01 at 37.72MiB/s  \n",
      "[ExtractAudio] Destination: ./Формальные языки и трансляции 5. Построение минимального автомата. Праволинейные грамматики.mp3\n",
      "Deleting original file ./Формальные языки и трансляции 5. Построение минимального автомата. Праволинейные грамматики.webm (pass -k to keep)\n",
      "Аудио скачано по пути: ./Формальные языки и трансляции 5. Построение минимального автомата. Праволинейные грамматики.mp3\n"
     ]
    }
   ]
  }
 ]
}
